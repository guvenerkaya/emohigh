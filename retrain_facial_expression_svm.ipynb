{
 "cells": [
  {
   "cell_type": "code",
   "execution_count": 2,
   "metadata": {},
   "outputs": [],
   "source": [
    "import pickle\n",
    "import pandas as pd\n",
    "from sklearn import svm"
   ]
  },
  {
   "cell_type": "code",
   "execution_count": 16,
   "metadata": {},
   "outputs": [
    {
     "data": {
      "text/plain": [
       "0         neutral\n",
       "1         neutral\n",
       "2         neutral\n",
       "3         neutral\n",
       "4         neutral\n",
       "5         neutral\n",
       "6         neutral\n",
       "7         neutral\n",
       "8         neutral\n",
       "9         neutral\n",
       "10        neutral\n",
       "11        neutral\n",
       "12        neutral\n",
       "13        neutral\n",
       "14        neutral\n",
       "15        neutral\n",
       "16        neutral\n",
       "17        neutral\n",
       "18        neutral\n",
       "19        neutral\n",
       "20        neutral\n",
       "21        neutral\n",
       "22        neutral\n",
       "23        neutral\n",
       "24        neutral\n",
       "25        neutral\n",
       "26        neutral\n",
       "27        neutral\n",
       "28        neutral\n",
       "29        neutral\n",
       "          ...    \n",
       "7018    surprised\n",
       "7019    surprised\n",
       "7020    surprised\n",
       "7021    surprised\n",
       "7022    surprised\n",
       "7023    surprised\n",
       "7024    surprised\n",
       "7025    surprised\n",
       "7026    surprised\n",
       "7027    surprised\n",
       "7028    surprised\n",
       "7029    surprised\n",
       "7030    surprised\n",
       "7031    surprised\n",
       "7032    surprised\n",
       "7033    surprised\n",
       "7034    surprised\n",
       "7035    surprised\n",
       "7036    surprised\n",
       "7037    surprised\n",
       "7038    surprised\n",
       "7039    surprised\n",
       "7040    surprised\n",
       "7041    surprised\n",
       "7042    surprised\n",
       "7043    surprised\n",
       "7044    surprised\n",
       "7045    surprised\n",
       "7046    surprised\n",
       "7047    surprised\n",
       "Name: label, Length: 7048, dtype: object"
      ]
     },
     "execution_count": 16,
     "metadata": {},
     "output_type": "execute_result"
    }
   ],
   "source": [
    "fei = pd.read_pickle(\"/Users/guvenerkaya/Desktop/datasets_and_models/fei_distances.pkl\")\n",
    "kdef1 = pd.read_pickle(\"/Users/guvenerkaya/Desktop/datasets_and_models/kdef_session1_distances.pkl\")\n",
    "kdef2 = pd.read_pickle(\"/Users/guvenerkaya/Desktop/datasets_and_models/kdef_session2_distances.pkl\")\n",
    "rad_frontal = pd.read_pickle(\"/Users/guvenerkaya/Desktop/datasets_and_models/radbound_frontal_distances.pkl\")\n",
    "rad_left = pd.read_pickle(\"/Users/guvenerkaya/Desktop/datasets_and_models/radbound_left_distances.pkl\")\n",
    "rad_right = pd.read_pickle(\"/Users/guvenerkaya/Desktop/datasets_and_models/radboud_right_distances.pkl\")\n",
    "ck = pd.read_pickle(\"/Users/guvenerkaya/Desktop/datasets_and_models/ck+_distances.pkl\")\n",
    "jaffe = pd.read_pickle(\"/Users/guvenerkaya/Desktop/datasets_and_models/jaffe_distances.pkl\")\n",
    "df = fei\n",
    "df = df.append([kdef1, kdef2, rad_frontal, rad_left, rad_right, ck, jaffe], ignore_index=True)\n",
    "y = df.label\n",
    "df = df.drop('label', axis=1)\n",
    "df = df.drop('filename', axis=1)\n",
    "best = ['distance64<->66', 'distance25<->44', 'distance45<->47', 'distance65<->68', 'distance44<->48', 'distance20<->39', 'distance63<->67', 'distance34<->63', 'distance62<->68', 'distance60<->62', 'distance21<->39', 'distance21<->41', 'distance52<->67', 'distance54<->56', 'distance54<->68', 'distance21<->40', 'distance49<->65', 'distance53<->57', 'distance20<->42', 'distance10<->55', 'distance36<->57', 'distance53<->66', 'distance49<->58', 'distance24<->43', 'distance57<->64', 'distance9<->61', 'distance64<->67', 'distance50<->68', 'distance49<->59', 'distance25<->47', 'distance32<->34', 'distance31<->63', 'distance39<->42', 'distance49<->60', 'distance59<->62', 'distance60<->61', 'distance51<->53', 'distance35<->55', 'distance38<->42', 'distance49<->56', 'distance50<->57', 'distance63<->65', 'distance31<->62', 'distance21<->42', 'distance32<->61', 'distance20<->41', 'distance54<->61', 'distance58<->63', 'distance10<->65', 'distance9<->59']\n",
    "X = df\n",
    "X = df[best]\n",
    "#X.columns[136:204]\n",
    "y"
   ]
  },
  {
   "cell_type": "code",
   "execution_count": 6,
   "metadata": {},
   "outputs": [
    {
     "data": {
      "text/plain": [
       "SVC(C=100, cache_size=200, class_weight=None, coef0=0.0,\n",
       "  decision_function_shape='ovr', degree=3, gamma=0.0001, kernel='rbf',\n",
       "  max_iter=-1, probability=True, random_state=None, shrinking=True,\n",
       "  tol=0.001, verbose=False)"
      ]
     },
     "execution_count": 6,
     "metadata": {},
     "output_type": "execute_result"
    }
   ],
   "source": [
    "#from sklearn.model_selection import train_test_split\n",
    "#X_train, X_test, y_train, y_test = train_test_split(X, y, test_size = 0.2)\n",
    "\n",
    "clf = svm.SVC(gamma= 0.0001, C = 100, kernel = 'rbf',probability= True)\n",
    "clf.fit(X,y)\n",
    "clf"
   ]
  },
  {
   "cell_type": "code",
   "execution_count": 12,
   "metadata": {},
   "outputs": [
    {
     "ename": "NameError",
     "evalue": "name 'X_test' is not defined",
     "output_type": "error",
     "traceback": [
      "\u001b[0;31m---------------------------------------------------------------------------\u001b[0m",
      "\u001b[0;31mNameError\u001b[0m                                 Traceback (most recent call last)",
      "\u001b[0;32m<ipython-input-12-b3b8897b8f10>\u001b[0m in \u001b[0;36m<module>\u001b[0;34m\u001b[0m\n\u001b[1;32m      5\u001b[0m \u001b[0;34m\u001b[0m\u001b[0m\n\u001b[1;32m      6\u001b[0m \u001b[0;34m\u001b[0m\u001b[0m\n\u001b[0;32m----> 7\u001b[0;31m \u001b[0my_pred\u001b[0m \u001b[0;34m=\u001b[0m \u001b[0mclf\u001b[0m\u001b[0;34m.\u001b[0m\u001b[0mpredict\u001b[0m\u001b[0;34m(\u001b[0m\u001b[0mX_test\u001b[0m\u001b[0;34m)\u001b[0m\u001b[0;34m\u001b[0m\u001b[0;34m\u001b[0m\u001b[0m\n\u001b[0m\u001b[1;32m      8\u001b[0m \u001b[0;31m#from sklearn.metrics import confusion_matrix, classification_report\u001b[0m\u001b[0;34m\u001b[0m\u001b[0;34m\u001b[0m\u001b[0;34m\u001b[0m\u001b[0m\n\u001b[1;32m      9\u001b[0m \u001b[0;31m#print(confusion_matrix(y_test,y_pred))\u001b[0m\u001b[0;34m\u001b[0m\u001b[0;34m\u001b[0m\u001b[0;34m\u001b[0m\u001b[0m\n",
      "\u001b[0;31mNameError\u001b[0m: name 'X_test' is not defined"
     ]
    }
   ],
   "source": [
    "modal_path = \"/Users/guvenerkaya/Desktop/datasets_and_models/SVM_trained\"\n",
    "outfile = open(modal_path, 'wb')\n",
    "pickle.dump(clf, outfile)\n",
    "outfile.close()\n",
    "\n",
    "\n",
    "y_pred = clf.predict(X_test)\n",
    "#from sklearn.metrics import confusion_matrix, classification_report\n",
    "#print(confusion_matrix(y_test,y_pred))\n",
    "#print(classification_report(y_test, y_pred))\n",
    "#y_pred"
   ]
  },
  {
   "cell_type": "code",
   "execution_count": null,
   "metadata": {},
   "outputs": [],
   "source": []
  },
  {
   "cell_type": "code",
   "execution_count": null,
   "metadata": {},
   "outputs": [],
   "source": []
  }
 ],
 "metadata": {
  "kernelspec": {
   "display_name": "Python 3",
   "language": "python",
   "name": "python3"
  },
  "language_info": {
   "codemirror_mode": {
    "name": "ipython",
    "version": 3
   },
   "file_extension": ".py",
   "mimetype": "text/x-python",
   "name": "python",
   "nbconvert_exporter": "python",
   "pygments_lexer": "ipython3",
   "version": "3.7.3"
  }
 },
 "nbformat": 4,
 "nbformat_minor": 2
}
